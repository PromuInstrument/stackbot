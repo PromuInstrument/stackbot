{
 "cells": [
  {
   "cell_type": "markdown",
   "metadata": {},
   "source": [
    "# Calibration Procedure\n",
    "\n",
    "* Compute center offset:\n",
    " - Set $\\lambda_{\\rm center}$ to set of known spectral lines\n",
    " - Measure pixel position of each: \n",
    " - average each to determine central pixel $n_o$\n",
    " \n",
    "|   $\\lambda_{\\rm center}$ | Pixel |           \n",
    "| ----------------------:  |:------:|\n",
    "| 0   nm                   | 5.2 | \n",
    "| 445 nm                   | 6.22      |  \n",
    "| 901 nm                   | 3.1      | \n",
    "\n",
    "\n",
    " \n",
    "* Compute spectrometer calibration angles/length ($\\ f_L, \\delta, \\gamma$)\n",
    " * Move known spectral line $\\lambda_o$ to left and right sides of detector\n",
    " * record $\\lambda_{\\rm center}$ and pixel position for each \n",
    " * Compute best fit of $\\ f_{\\rm calib}$\n",
    "\n",
    "\n",
    "| $\\lambda_o$   | Side | $\\lambda_{\\rm center}$| Pixel  |\n",
    "| ------------- | ---- |:----------------------|-------:|\n",
    "| 809.4 nm      | R    |729.4910 nm            |508     |\n",
    "| 809.4 nm      | L    |899.5830 nm            |  4     |\n",
    "| ...           | ...  | ...                   |...     |\n",
    "\n"
   ]
  },
  {
   "cell_type": "markdown",
   "metadata": {},
   "source": [
    "# Optimization Function\n",
    "\n",
    "Optimize for 3 parameters:\n",
    " * $f_L$: Focal length of spectrometer\n",
    " * $\\delta$: Detector angle (The angle of the image plane relative to the plane perpendicular to the spectrograph focal axis at the center of the image plane)\n",
    " * $\\gamma$: inclusion angle\n",
    "\n",
    "from experiment:\n",
    " * $n =  n_{px} - n_o$: Pixel from central pixel\n",
    " * $\\lambda_{\\rm center}$: Wavelength of center pixel \n",
    " * $\\lambda_p$: Wavelength of pixel $n$\n",
    " \n",
    "Fixed Constants:\n",
    " * $m$: Diffraction order (typically one)\n",
    " * $x_{\\rm pixel}$: pixel size\n",
    " * $d_{grating}$: Grating pitch (1/(groves / mm))\n",
    "    \n",
    "residual: (wl,  wl_p, n, f, delta,gamma)\n",
    "\n",
    "We measure pixel position ($n$) of a known wavelength ($\\lambda_p$) for multple peaks and spectrometer positions and find the best fit parameters $\\ f_L, \\delta, \\gamma$:\n",
    "\n",
    "$$ \\lambda_p = f_{\\rm calib} ( n,  \\lambda_{\\rm center}, \n",
    "    \\underbrace{m, x_{\\rm pixel}, d_{\\rm grating}}_{\\rm spec\\ params}, \n",
    "    \\overbrace{f_L,\\ \\ \\delta,\\ \\ \\gamma}^{\\rm Calibration\\ params} ) $$\n",
    "\n",
    "$$ \\lambda_p = \\frac{d}{m} \\cdot \\left[ \\sin( \\psi - \\frac{\\gamma}{2}) + \\sin(\\psi+\\frac{\\gamma}{2} + \\eta) \\right]$$\n",
    "\n",
    "Where\n",
    "\n",
    "$$ \\psi = \\arcsin \\left[ \\frac{ m\\ \\lambda_{\\rm center} } { 2\\ d_{\\rm grating} \\cos(\\frac{\\gamma}{2})} \\right] $$\n",
    "\n",
    "$$ \\eta = \\arctan \\left[ \\frac{ n\\ x_{pixel} \\cos{\\delta}} {f_L + n\\ x_{pixel} \\sin(\\delta)} \\right]$$\n",
    "\n",
    "$$n =  n_{px} - n_o$$\n",
    "\n"
   ]
  },
  {
   "cell_type": "code",
   "execution_count": 1,
   "metadata": {
    "collapsed": true
   },
   "outputs": [],
   "source": [
    "from __future__ import division\n",
    "import numpy as np\n",
    "import  matplotlib.pyplot as plt\n",
    "from pprint import pprint\n",
    "import numpy as np\n",
    "\n",
    "%matplotlib inline"
   ]
  },
  {
   "cell_type": "code",
   "execution_count": 2,
   "metadata": {
    "collapsed": true
   },
   "outputs": [],
   "source": [
    "def wl_p_calib_p2(px, n0, offset_adjust, wl_center, m_order, d_grating, x_pixel, f, delta, gamma, curvature):\n",
    "    #consts\n",
    "    #d_grating = 1./150. #mm\n",
    "    #x_pixel   = 16e-3 # mm\n",
    "    #m_order   = 1 # diffraction order, unitless\n",
    "    n = px - (n0+offset_adjust*wl_center)\n",
    "\n",
    "    psi = np.arcsin( m_order* wl_center / (2*d_grating*np.cos(gamma/2.)))\n",
    "    eta = np.arctan(n*x_pixel*np.cos(delta) / (f+n*x_pixel*np.sin(delta)))\n",
    "    \n",
    "    return ((d_grating/m_order)\n",
    "                    *(np.sin(psi-0.5*gamma)\n",
    "                      + np.sin(psi+0.5*gamma+eta))) + curvature*n**2"
   ]
  },
  {
   "cell_type": "code",
   "execution_count": 3,
   "metadata": {
    "collapsed": true
   },
   "outputs": [],
   "source": [
    "from scipy.optimize import least_squares\n",
    "\n",
    "def fit_residual(\n",
    "                # optimization parameters\n",
    "                opt_params, #  (f, delta, gamma, curvature)\n",
    "                # other params and data\n",
    "                px, n0, offset_adjust, wl_center, m_order, d_grating, x_pixel,\n",
    "                wl_actual\n",
    "                ):\n",
    "    \n",
    "    (f, delta, gamma, curvature) = opt_params\n",
    "    wl_model = wl_p_calib_p2(px, n0, offset_adjust, wl_center, m_order, d_grating, x_pixel, f, delta, gamma,curvature)\n",
    "    return wl_model - wl_actual"
   ]
  },
  {
   "cell_type": "markdown",
   "metadata": {},
   "source": [
    "# grating 1 (150 g/mm Bz 800)"
   ]
  },
  {
   "cell_type": "code",
   "execution_count": 4,
   "metadata": {
    "scrolled": false
   },
   "outputs": [
    {
     "data": {
      "text/plain": [
       "<matplotlib.lines.Line2D at 0x1bc6c1be748>"
      ]
     },
     "execution_count": 4,
     "metadata": {},
     "output_type": "execute_result"
    },
    {
     "data": {
      "image/png": "[encoded data removed]",
      "text/plain": [
       "<matplotlib.figure.Figure at 0x1bc6c00e240>"
      ]
     },
     "metadata": {},
     "output_type": "display_data"
    }
   ],
   "source": [
    "# grating 1 (150 g/mm Bz 800)\n",
    "\n",
    "d_grating = 1e6/150 #nm /groove\n",
    "\n",
    "wl_center_data = np.array([\n",
    "[0,     237],\n",
    "[435.8,  236],\n",
    "[546,   235],\n",
    "[610.8, 237],\n",
    "[709, 235],\n",
    "])\n",
    "    \n",
    "n0 = np.mean(wl_center_data[:,1])\n",
    "n0    \n",
    "plt.figure()\n",
    "plt.plot(wl_center_data[:,0], wl_center_data[:,1])\n",
    "plt.axhline(n0)"
   ]
  },
  {
   "cell_type": "code",
   "execution_count": 5,
   "metadata": {},
   "outputs": [],
   "source": [
    "dispersion_data = np.array([\n",
    "#wl_actual, wl_center, pixel\n",
    "[435.8, 484.990, 92],\n",
    "[435.8, 379.990, 400],\n",
    "    \n",
    "[709, 779.99, 25],\n",
    "[709, 619.98, 498],\n",
    "\n",
    "#[610.8, 670, 62.63],\n",
    "#[610.8, 529.9, 474],\n",
    "\n",
    "[546, 609.990,48],\n",
    "[546, 479.990,429],\n",
    "    \n",
    "[871.8, 930, 63],\n",
    "[871.8, 800, 446.14],\n",
    "\n",
    "])\n"
   ]
  },
  {
   "cell_type": "code",
   "execution_count": 6,
   "metadata": {},
   "outputs": [
    {
     "name": "stdout",
     "output_type": "stream",
     "text": [
      "[277066040.0390625, 0.44363260294548978, 0.33494964317950504, 236.0, 0, 6666.666666666667, 16000.0, 1.4783653315666176e-05]\n"
     ]
    }
   ],
   "source": [
    "initial_guess = (300e6,1,0.5,0)\n",
    "\n",
    "kwargs = dict(\n",
    "    px=dispersion_data[:,2], \n",
    "    n0=np.mean(wl_center_data[:,1]),\n",
    "    wl_center=dispersion_data[:,1], # nm\n",
    "    m_order=1,\n",
    "    d_grating=d_grating, # nm\n",
    "    x_pixel=16e3, #nm\n",
    "    wl_actual=dispersion_data[:,0], # nm\n",
    "    offset_adjust = 0\n",
    ")\n",
    "\n",
    "result = least_squares(fit_residual, initial_guess, kwargs=kwargs)\n",
    "result.x\n",
    "\n",
    "\n",
    "kwargs = dict(\n",
    "    px=dispersion_data[:,2], \n",
    "    #px=wl_center_data[:,1],\n",
    "    n0=np.mean(wl_center_data[:,1]),\n",
    "    wl_center=dispersion_data[:,1],\n",
    "    #wl_center=wl_center_data[:,0]*1e-6,\n",
    "    m_order=1,\n",
    "    d_grating=1/150.*1e6, # nm\n",
    "    x_pixel=16e3, #nm\n",
    "    #wl_actual=dispersion_data[:,0]*1e-6,\n",
    "    f = result.x[0],\n",
    "    delta = result.x[1],\n",
    "    gamma = result.x[2],\n",
    "    offset_adjust = 0,\n",
    "    curvature = result.x[3]\n",
    ")\n",
    "\n",
    "wl_p_calib_p2(**kwargs) - dispersion_data[:,0]\n",
    "\n",
    "\n",
    "# to store for ini file\n",
    "# f, delta, gamma, n0, offset_adjust, d_grating, x_pixel, curvature\n",
    "Y = 'f, delta, gamma, n0, offset_adjust, d_grating, x_pixel, curvature'.split(', ')\n",
    "print(str([ kwargs[x] for x in Y ]))"
   ]
  },
  {
   "cell_type": "markdown",
   "metadata": {},
   "source": [
    "# grating 2 (1200 g/mm Bz 750)"
   ]
  },
  {
   "cell_type": "code",
   "execution_count": 17,
   "metadata": {
    "collapsed": true
   },
   "outputs": [],
   "source": [
    "d_grating = 1e6/1200 #"
   ]
  },
  {
   "cell_type": "code",
   "execution_count": 18,
   "metadata": {},
   "outputs": [
    {
     "data": {
      "text/plain": [
       "<matplotlib.lines.Line2D at 0x1bc6c94d470>"
      ]
     },
     "execution_count": 18,
     "metadata": {},
     "output_type": "execute_result"
    },
    {
     "data": {
      "image/png": "[encoded data removed]",
      "text/plain": [
       "<matplotlib.figure.Figure at 0x1bc6c972940>"
      ]
     },
     "metadata": {},
     "output_type": "display_data"
    }
   ],
   "source": [
    "wl_center_data = np.array([\n",
    "[0,     235],\n",
    "[404.6, 241.9],\n",
    "[435.8, 240],\n",
    "[546, 241.18],\n",
    "[709, 246],\n",
    "])\n",
    "    \n",
    "n0 = np.mean(wl_center_data[:,1])\n",
    "plt.figure(2)\n",
    "plt.plot(wl_center_data[:,0], wl_center_data[:,1])\n",
    "plt.axhline(n0)"
   ]
  },
  {
   "cell_type": "code",
   "execution_count": 29,
   "metadata": {
    "collapsed": true
   },
   "outputs": [],
   "source": [
    "dispersion_data = np.array([\n",
    "#wl_actual, wl_center, pixel\n",
    "[709, 716, 36],\n",
    "[709, 701, 483],\n",
    "    \n",
    "[546, 554.5, 11.1],\n",
    "[546, 537, 487.72],\n",
    "\n",
    "[435.8, 444.5, 13.8],\n",
    "#[435.8, 429, 417.21],\n",
    "[435.8, 426, 496.0],\n",
    "    \n",
    "[404.6, 412, 50.3],\n",
    "[404.6, 396, 463.3],\n",
    "\n",
    "    \n",
    "[610.8, 619, 24.06],\n",
    "[610.8, 602,503.52]\n",
    "    \n",
    "])"
   ]
  },
  {
   "cell_type": "code",
   "execution_count": 30,
   "metadata": {},
   "outputs": [
    {
     "data": {
      "text/plain": [
       "array([  3.75000000e+08,   2.82318517e-01,   5.60729352e-01,\n",
       "        -1.89289720e-06])"
      ]
     },
     "execution_count": 30,
     "metadata": {},
     "output_type": "execute_result"
    }
   ],
   "source": [
    "initial_guess = (300e6,1,0.5,0)\n",
    "\n",
    "kwargs = dict(\n",
    "    px=dispersion_data[:,2], \n",
    "    n0=np.mean(wl_center_data[:,1]),\n",
    "    wl_center=dispersion_data[:,1], # nm\n",
    "    m_order=1,\n",
    "    d_grating=d_grating, # nm\n",
    "    x_pixel=16e3, #nm\n",
    "    wl_actual=dispersion_data[:,0], # nm\n",
    "    offset_adjust = 0\n",
    ")\n",
    "\n",
    "result = least_squares(fit_residual, initial_guess, kwargs=kwargs)\n",
    "result.x"
   ]
  },
  {
   "cell_type": "code",
   "execution_count": 32,
   "metadata": {},
   "outputs": [
    {
     "name": "stdout",
     "output_type": "stream",
     "text": [
      "[375000000.0, 0.2823185168987965, 0.56072935153553727, 240.81599999999997, 0, 833.3333333333334, 16000.0, -1.8928971957247769e-06]\n"
     ]
    }
   ],
   "source": [
    "kwargs = dict(\n",
    "    px=dispersion_data[:,2], \n",
    "    #px=wl_center_data[:,1],\n",
    "    n0=np.mean(wl_center_data[:,1]),\n",
    "    wl_center=dispersion_data[:,1],\n",
    "    #wl_center=wl_center_data[:,0]*1e-6,\n",
    "    m_order=1,\n",
    "    d_grating=d_grating, # nm\n",
    "    x_pixel=16e3, #nm\n",
    "    #wl_actual=dispersion_data[:,0]*1e-6,\n",
    "    f = result.x[0],\n",
    "    delta = result.x[1],\n",
    "    gamma = result.x[2],\n",
    "    offset_adjust = 0,\n",
    "    curvature = result.x[3]\n",
    ")\n",
    "\n",
    "wl_p_calib_p2(**kwargs) - dispersion_data[:,0]\n",
    "\n",
    "\n",
    "# to store for ini file\n",
    "# f, delta, gamma, n0, offset_adjust, d_grating, x_pixel, curvature\n",
    "Y = 'f, delta, gamma, n0, offset_adjust, d_grating, x_pixel, curvature'.split(', ')\n",
    "print(str([ kwargs[x] for x in Y ]))"
   ]
  },
  {
   "cell_type": "markdown",
   "metadata": {},
   "source": [
    "# grating #3  (Bz = 750nm)"
   ]
  },
  {
   "cell_type": "code",
   "execution_count": 33,
   "metadata": {
    "collapsed": true
   },
   "outputs": [],
   "source": [
    "d_grating = 1e6/300. #nm/groove"
   ]
  },
  {
   "cell_type": "code",
   "execution_count": 34,
   "metadata": {
    "scrolled": true
   },
   "outputs": [
    {
     "data": {
      "text/plain": [
       "<matplotlib.lines.Line2D at 0x1bc6c9f0ef0>"
      ]
     },
     "execution_count": 34,
     "metadata": {},
     "output_type": "execute_result"
    },
    {
     "data": {
      "image/png": "[encoded data removed]",
      "text/plain": [
       "<matplotlib.figure.Figure at 0x1bc6c972e48>"
      ]
     },
     "metadata": {},
     "output_type": "display_data"
    }
   ],
   "source": [
    "wl_center_data = np.array([\n",
    "[0,     240],\n",
    "[404.6, 239.9],\n",
    "[435.8, 238.8],\n",
    "[546, 238],\n",
    "[709, 238.02],\n",
    "[610.8,240],\n",
    "])\n",
    "    \n",
    "n0 = np.mean(wl_center_data[:,1])\n",
    "plt.figure(2)\n",
    "plt.plot(wl_center_data[:,0], wl_center_data[:,1])\n",
    "plt.axhline(n0)"
   ]
  },
  {
   "cell_type": "code",
   "execution_count": 35,
   "metadata": {},
   "outputs": [],
   "source": [
    "dispersion_data = np.array([\n",
    "#wl_actual, wl_center, pixel\n",
    "[709, 739.99, 51.70],\n",
    "[709, 670, 472],\n",
    "    \n",
    "[546, 579, 42.01],\n",
    "[546, 502, 501],\n",
    "\n",
    "[435.8, 475, 8],\n",
    "[435.8, 391.99, 499],\n",
    "    \n",
    "[404.6, 425.99, 113.46],\n",
    "[404.6, 380, 385.3],\n",
    "    \n",
    "[809.4, 840, 50.25],\n",
    "[809.4, 780, 415.52],\n",
    "    \n",
    "[610.8, 579.99, 425.13],\n",
    "[610.8, 569.99, 484.96],\n",
    "[610.8, 639.99, 65.3],  \n",
    "[610.8, 644.99, 5],\n",
    "[610.8, 639.99, 66],\n",
    "\n",
    "])"
   ]
  },
  {
   "cell_type": "code",
   "execution_count": 36,
   "metadata": {},
   "outputs": [
    {
     "name": "stdout",
     "output_type": "stream",
     "text": [
      "[300585937.49999994, 0.048725351032290587, 0.69569783942676733, 239.12, 0, 3333.3333333333335, 16000.0, 1.0677989900233526e-05]\n"
     ]
    }
   ],
   "source": [
    "initial_guess = (300e6,1,0.5,0)\n",
    "\n",
    "kwargs = dict(\n",
    "    px=dispersion_data[:,2], \n",
    "    n0=np.mean(wl_center_data[:,1]),\n",
    "    wl_center=dispersion_data[:,1], # nm\n",
    "    m_order=1,\n",
    "    d_grating=d_grating, # nm\n",
    "    x_pixel=16e3, #nm\n",
    "    wl_actual=dispersion_data[:,0], # nm\n",
    "    offset_adjust = 0\n",
    ")\n",
    "\n",
    "result = least_squares(fit_residual, initial_guess, kwargs=kwargs)\n",
    "result.x\n",
    "\n",
    "\n",
    "kwargs = dict(\n",
    "    px=dispersion_data[:,2], \n",
    "    #px=wl_center_data[:,1],\n",
    "    n0=np.mean(wl_center_data[:,1]),\n",
    "    wl_center=dispersion_data[:,1],\n",
    "    #wl_center=wl_center_data[:,0]*1e-6,\n",
    "    m_order=1,\n",
    "    d_grating=d_grating, # nm\n",
    "    x_pixel=16e3, #nm\n",
    "    #wl_actual=dispersion_data[:,0]*1e-6,\n",
    "    f = result.x[0],\n",
    "    delta = result.x[1],\n",
    "    gamma = result.x[2],\n",
    "    offset_adjust = 0,\n",
    "    curvature = result.x[3]\n",
    ")\n",
    "\n",
    "wl_p_calib_p2(**kwargs) - dispersion_data[:,0]\n",
    "\n",
    "\n",
    "# to store for ini file\n",
    "# f, delta, gamma, n0, offset_adjust, d_grating, x_pixel, curvature\n",
    "Y = 'f, delta, gamma, n0, offset_adjust, d_grating, x_pixel, curvature'.split(', ')\n",
    "print(str([ kwargs[x] for x in Y ]))"
   ]
  },
  {
   "cell_type": "code",
   "execution_count": null,
   "metadata": {
    "collapsed": true
   },
   "outputs": [],
   "source": []
  }
 ],
 "metadata": {
  "kernelspec": {
   "display_name": "Python 3",
   "language": "python",
   "name": "python3"
  },
  "language_info": {
   "codemirror_mode": {
    "name": "ipython",
    "version": 3
   },
   "file_extension": ".py",
   "mimetype": "text/x-python",
   "name": "python",
   "nbconvert_exporter": "python",
   "pygments_lexer": "ipython3",
   "version": "3.6.3"
  }
 },
 "nbformat": 4,
 "nbformat_minor": 2
}

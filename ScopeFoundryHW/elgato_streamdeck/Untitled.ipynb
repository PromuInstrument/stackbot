{
 "cells": [
  {
   "cell_type": "code",
   "execution_count": 54,
   "metadata": {
    "collapsed": true
   },
   "outputs": [],
   "source": [
    "import bitmapfont\n",
    "import numpy as np\n",
    "import matplotlib.pyplot as plt\n",
    "%matplotlib inline"
   ]
  },
  {
   "cell_type": "code",
   "execution_count": 55,
   "metadata": {
    "collapsed": true
   },
   "outputs": [],
   "source": [
    "A = np.zeros((72,72))\n",
    "def px_func(i,j):\n",
    "    A[j,i] = 1\n",
    "    \n",
    "bf = bitmapfont.BitmapFont(72,72, px_func)\n",
    "bf.init()"
   ]
  },
  {
   "cell_type": "code",
   "execution_count": 56,
   "metadata": {
    "collapsed": false
   },
   "outputs": [
    {
     "data": {
      "text/plain": [
       "<matplotlib.image.AxesImage at 0x119a03da0>"
      ]
     },
     "execution_count": 56,
     "metadata": {},
     "output_type": "execute_result"
    },
    {
     "data": {
      "image/png": "[encoded data removed]",
      "text/plain": [
       "<matplotlib.figure.Figure at 0x1166965c0>"
      ]
     },
     "metadata": {},
     "output_type": "display_data"
    }
   ],
   "source": [
    "bf.text(\"Shutter\",5,5)\n",
    "\n",
    "plt.imshow(A)\n"
   ]
  },
  {
   "cell_type": "code",
   "execution_count": 72,
   "metadata": {
    "collapsed": true
   },
   "outputs": [],
   "source": [
    "def create_text_img(Nx,Ny, text, fgcolor=(0,0,0), bgcolor=(1,1,1)):\n",
    "    \n",
    "    A = np.zeros((72,72,3))\n",
    "\n",
    "    for i in range(3):\n",
    "        A[:,:,i] = bgcolor[i]\n",
    "\n",
    "    def px_func(i,j):\n",
    "        A[j,i,:] = fgcolor\n",
    "\n",
    "\n",
    "    \n",
    "    with bitmapfont.BitmapFont(Ny,Nx, px_func) as bf:\n",
    "        bf.text(text, 5,5)\n",
    "        \n",
    "    return A\n",
    "    \n",
    "\n",
    "    "
   ]
  },
  {
   "cell_type": "code",
   "execution_count": 73,
   "metadata": {
    "collapsed": false
   },
   "outputs": [
    {
     "data": {
      "text/plain": [
       "<matplotlib.image.AxesImage at 0x11a3d3eb8>"
      ]
     },
     "execution_count": 73,
     "metadata": {},
     "output_type": "execute_result"
    },
    {
     "data": {
      "image/png": "[encoded data removed]",
      "text/plain": [
       "<matplotlib.figure.Figure at 0x119a50630>"
      ]
     },
     "metadata": {},
     "output_type": "display_data"
    }
   ],
   "source": [
    "A = create_text_img(72,72,\"Testing 123\", fgcolor=(1,0,0),bgcolor=(0,0,0))\n",
    "plt.imshow(A)"
   ]
  },
  {
   "cell_type": "code",
   "execution_count": 77,
   "metadata": {
    "collapsed": true
   },
   "outputs": [],
   "source": [
    "def add_text_to_img(img, text, loc=(0,0), color=(0,0,0)):\n",
    "    A = img.load()\n",
    "\n",
    "    def px_func(i,j):\n",
    "        A[i,j] = color\n",
    "        \n",
    "    Ny, Nx = img.size\n",
    "\n",
    "    with bitmapfont.BitmapFont(Ny,Nx, px_func) as bf:\n",
    "        bf.text(text, *loc)\n",
    "        \n",
    "    return img\n",
    "    \n",
    "\n",
    "    "
   ]
  },
  {
   "cell_type": "code",
   "execution_count": 78,
   "metadata": {
    "collapsed": true
   },
   "outputs": [],
   "source": [
    "from PIL import Image, ImageDraw, ImageFont"
   ]
  },
  {
   "cell_type": "code",
   "execution_count": 99,
   "metadata": {
    "collapsed": false
   },
   "outputs": [
    {
     "data": {
      "image/png": "[encoded data removed]",
      "text/plain": [
       "<PIL.Image.Image image mode=RGBA size=72x72 at 0x11A3E0710>"
      ]
     },
     "execution_count": 99,
     "metadata": {},
     "output_type": "execute_result"
    }
   ],
   "source": [
    "bg = Image.new('RGBA',(72,72),(200,23,200))\n",
    "fg = Image.new('RGBA',(72,72),(0,0,0,0))\n",
    "ico = Image.open(\"open-iconic-png/arrow-bottom-8x.png\")\n",
    "fg.paste(ico,(8,0))\n",
    "#fg = fg.resize((72,72))\n",
    "#bg.paste(fg)\n",
    "#bg\n",
    "combined = Image.alpha_composite(bg,fg)\n",
    "add_text_to_img(combined, \"Test\", loc=(0,64))"
   ]
  },
  {
   "cell_type": "code",
   "execution_count": 98,
   "metadata": {
    "collapsed": false
   },
   "outputs": [
    {
     "data": {
      "text/plain": [
       "(72, 72)"
      ]
     },
     "execution_count": 98,
     "metadata": {},
     "output_type": "execute_result"
    }
   ],
   "source": [
    "fg.size"
   ]
  },
  {
   "cell_type": "code",
   "execution_count": 24,
   "metadata": {
    "collapsed": false
   },
   "outputs": [
    {
     "data": {
      "image/png": "[encoded data removed]",
      "text/plain": [
       "<PIL.Image.Image image mode=RGBA size=72x72 at 0x108C01588>"
      ]
     },
     "execution_count": 24,
     "metadata": {},
     "output_type": "execute_result"
    }
   ],
   "source": [
    "fg.convert('RGBA')"
   ]
  },
  {
   "cell_type": "code",
   "execution_count": null,
   "metadata": {
    "collapsed": true
   },
   "outputs": [],
   "source": []
  }
 ],
 "metadata": {
  "kernelspec": {
   "display_name": "Python 3",
   "language": "python",
   "name": "python3"
  },
  "language_info": {
   "codemirror_mode": {
    "name": "ipython",
    "version": 3
   },
   "file_extension": ".py",
   "mimetype": "text/x-python",
   "name": "python",
   "nbconvert_exporter": "python",
   "pygments_lexer": "ipython3",
   "version": "3.5.2"
  }
 },
 "nbformat": 4,
 "nbformat_minor": 2
}

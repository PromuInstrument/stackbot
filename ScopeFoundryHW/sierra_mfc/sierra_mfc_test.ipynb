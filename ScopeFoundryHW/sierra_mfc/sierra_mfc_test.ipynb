{
 "cells": [
  {
   "cell_type": "code",
   "execution_count": 11,
   "metadata": {},
   "outputs": [],
   "source": [
    "import serial"
   ]
  },
  {
   "cell_type": "code",
   "execution_count": 20,
   "metadata": {},
   "outputs": [],
   "source": [
    "ser =serial.Serial('COM4', 9600, parity=serial.PARITY_NONE,\n",
    "                   stopbits=serial.STOPBITS_ONE, timeout=5)\n"
   ]
  },
  {
   "cell_type": "code",
   "execution_count": 21,
   "metadata": {},
   "outputs": [],
   "source": [
    "\n",
    "def calcCRC(cmnd):\n",
    "    # cmnd is a byte array containing the command ASCII string; example: cmnd=\"Sinv2.000\"\n",
    "    # an unsigned 32 bit integer is returned to the calling program\n",
    "    # only the lower 16 bits contain the crc\n",
    "\n",
    "    crc = 0xffff # initialize crc to hex value 0xffff\n",
    "    \n",
    "    for character in cmnd: # this for loop starts with ASCCII 'S' and loops through to the last ASCII '0'\n",
    "        hex_char = (int(ord(character)))\n",
    "        #hex_char = character\n",
    "        crc=crc^(hex_char*0x0100) # the ASCII value is times by 0x0100 first then XORED to the current crc value\n",
    "        #for(j=0; j<8; j++) # the crc is hashed 8 times with this for loop\n",
    "        j = 0\n",
    "        for j in range(0,8):\n",
    "            # if the 15th bit is set (tested by ANDING with hex 0x8000 and testing for 0x8000 result) \n",
    "            # then crc is shifted left one bit (same as times 2) XORED with hex 0x1021 and ANDED to \n",
    "            # hex 0xffff to limit the crc to lower 16 bits. If the 15th bit is not set then the crc \n",
    "            # is shifted left one bit and ANDED with hex 0xffff to limit the crc to lower 16 bits.\n",
    "            if((crc&0x8000)==0x8000):\n",
    "                crc=((crc<<1)^0x1021)&0xffff\n",
    "            else:\n",
    "                crc=(crc<<1)&0xffff\n",
    "            # end of j loop\n",
    "        # end of i loop\n",
    "    # There are some crc values that are not allowed, 0x00 and 0x0d\n",
    "\n",
    "    # These are byte values so the high byte and the low byte of the crc must be checked and incremented if \n",
    "        # the bytes are either 0x00 0r 0x0d\n",
    "    if((crc&0xff00)==0x0d00):\n",
    "        crc +=0x0100\n",
    "    if((crc&0x00ff)==0x000d):\n",
    "        crc +=0x0001\n",
    "    if((crc&0xff00)==0x0000):\n",
    "        crc +=0x0100\n",
    "    if((crc&0x00ff)==0x0000):\n",
    "        crc +=0x0001\n",
    "    \n",
    "    print(hex(crc))\n",
    "    return crc.to_bytes(2, 'big')\n",
    "\n",
    "    # If the string Sinv2.000 is sent through this routine the crc = 0x8f55\n",
    "    # The complete command \"Sinv2.000\" will look like this in hex: \n",
    "        # 0x53 0x69 0x6E 0x76 0x32 0x2e 0x30 0x30 0x30 0x8f 0x55 0x0d"
   ]
  },
  {
   "cell_type": "code",
   "execution_count": 22,
   "metadata": {},
   "outputs": [
    {
     "name": "stdout",
     "output_type": "stream",
     "text": [
      "0x8f55\n"
     ]
    },
    {
     "data": {
      "text/plain": [
       "b'\\x8fU'"
      ]
     },
     "execution_count": 22,
     "metadata": {},
     "output_type": "execute_result"
    }
   ],
   "source": [
    "calcCRC(\"Sinv2.000\")"
   ]
  },
  {
   "cell_type": "code",
   "execution_count": 23,
   "metadata": {},
   "outputs": [
    {
     "name": "stdout",
     "output_type": "stream",
     "text": [
      "0xeb10\n",
      "0xd98c\n"
     ]
    },
    {
     "data": {
      "text/plain": [
       "b'\\xd9\\x8c'"
      ]
     },
     "execution_count": 23,
     "metadata": {},
     "output_type": "execute_result"
    }
   ],
   "source": [
    "calcCRC(\"!StrmOn\")\n",
    "calcCRC(\"!StrmOff\")"
   ]
  },
  {
   "cell_type": "code",
   "execution_count": 36,
   "metadata": {},
   "outputs": [],
   "source": [
    "def cmd_controller(ser, cmd):\n",
    "    crc = calcCRC(cmd)\n",
    "    cmd = cmd.encode() + (crc) + b'\\r'\n",
    "    print(cmd)\n",
    "    ser.write(cmd)\n",
    "    #ser_rsp = ser.read(200)\n",
    "    ser_rsp  = ser.read_until(b'\\r')\n",
    "    print(\"Output from MFC Controller cmd with repr(): \" + repr(ser_rsp))\n",
    "    print(\"resp CRC\", calcCRC(ser_rsp[:-3].decode()))\n",
    "    return(ser_rsp)"
   ]
  },
  {
   "cell_type": "code",
   "execution_count": null,
   "metadata": {},
   "outputs": [],
   "source": []
  },
  {
   "cell_type": "code",
   "execution_count": 37,
   "metadata": {},
   "outputs": [
    {
     "name": "stdout",
     "output_type": "stream",
     "text": [
      "0xeb49\n",
      "b'!StrmEcho\\xebI\\r'\n",
      "Output from MFC Controller cmd with repr(): b'StrmEcho\\x8e\\xda\\r'\n",
      "0x8eda\n",
      "resp CRC b'\\x8e\\xda'\n",
      "0xb5ba\n",
      "b'?Srnm\\xb5\\xba\\r'\n",
      "Output from MFC Controller cmd with repr(): b'Srnm150730\\xde\\xa3\\r'\n",
      "0xdea3\n",
      "resp CRC b'\\xde\\xa3'\n",
      "0x4b74\n",
      "b'?GasiKt\\r'\n",
      "Output from MFC Controller cmd with repr(): b'Gasi2n-\\r'\n",
      "0x6e2d\n",
      "resp CRC b'n-'\n",
      "0xe124\n",
      "b'!Sinv42.00\\xe1$\\r'\n",
      "Output from MFC Controller cmd with repr(): b'Sinv42.000\\xb8Y\\r'\n",
      "0xb859\n",
      "resp CRC b'\\xb8Y'\n"
     ]
    },
    {
     "data": {
      "text/plain": [
       "b'Sinv42.000\\xb8Y\\r'"
      ]
     },
     "execution_count": 37,
     "metadata": {},
     "output_type": "execute_result"
    }
   ],
   "source": [
    "ser.flush()\n",
    "ser.flushInput()\n",
    "cmd_controller(ser, '!StrmEcho')\n",
    "#cmd_controller(ser, '!FLOWwSETPOINT')\n",
    "#ser.flushInput()\n",
    "#ser.write(b\"SERIAL_NUMBER\\r\")\n",
    "#ser.read(1000)\n",
    "\n",
    "cmd_controller(ser, '?Srnm')\n",
    "cmd_controller(ser, '?Gasi')\n",
    "cmd_controller(ser, '!Sinv42.00')\n"
   ]
  },
  {
   "cell_type": "raw",
   "metadata": {},
   "source": [
    "PROTOCOL\n",
    "The SmartTrak communication is based on a standard RS232 port. All bytes are ASCII\n",
    "except the two CRC bytes used for a redundancy check. Each command starts with four\n",
    "bytes of command type, followed by a variable length value section. The two CRC bytes\n",
    "follow the value string and a carriage return ends the string. Each command string will\n",
    "vary in length but, can not exceed 26 bytes.\n",
    "Command String = {4 command bytes + variable length value + 2 CRC bytes + carriage\n",
    "return} < 26 bytes.\n",
    "The RS232 port does not depend on hardware handshaking and uses only three wires on\n",
    "the port: transmit, receive and ground. The port on the host needs to be configured to\n",
    "(9600,n,8,1) : 9600 baud, no parity, eight bit characters, one stop bit. "
   ]
  },
  {
   "cell_type": "code",
   "execution_count": 65,
   "metadata": {},
   "outputs": [],
   "source": [
    "ser.close()"
   ]
  },
  {
   "cell_type": "code",
   "execution_count": null,
   "metadata": {},
   "outputs": [],
   "source": []
  }
 ],
 "metadata": {
  "kernelspec": {
   "display_name": "Python 3",
   "language": "python",
   "name": "python3"
  },
  "language_info": {
   "codemirror_mode": {
    "name": "ipython",
    "version": 3
   },
   "file_extension": ".py",
   "mimetype": "text/x-python",
   "name": "python",
   "nbconvert_exporter": "python",
   "pygments_lexer": "ipython3",
   "version": "3.7.1"
  }
 },
 "nbformat": 4,
 "nbformat_minor": 2
}

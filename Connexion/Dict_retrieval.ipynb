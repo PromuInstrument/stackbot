{
 "cells": [
  {
   "cell_type": "code",
   "execution_count": 13,
   "metadata": {
    "collapsed": false
   },
   "outputs": [
    {
     "ename": "AttributeError",
     "evalue": "'LQ' object has no attribute 'settings'",
     "output_type": "error",
     "traceback": [
      "\u001b[0;31m---------------------------------------------------------------------------\u001b[0m",
      "\u001b[0;31mAttributeError\u001b[0m                            Traceback (most recent call last)",
      "\u001b[0;32m<ipython-input-13-68fddbcf155d>\u001b[0m in \u001b[0;36m<module>\u001b[0;34m()\u001b[0m\n\u001b[1;32m     22\u001b[0m         self.NE = self.settings.New(name='NE', initial=0, \n\u001b[1;32m     23\u001b[0m                                     dtype=bool, ro=True)\n\u001b[0;32m---> 24\u001b[0;31m \u001b[0mLQ\u001b[0m\u001b[0;34m(\u001b[0m\u001b[0;34m)\u001b[0m\u001b[0;34m.\u001b[0m\u001b[0msetup\u001b[0m\u001b[0;34m(\u001b[0m\u001b[0;34m)\u001b[0m\u001b[0;34m\u001b[0m\u001b[0m\n\u001b[0m\u001b[1;32m     25\u001b[0m \u001b[0;34m\u001b[0m\u001b[0m\n\u001b[1;32m     26\u001b[0m dir_dict = {(0,1): 'N', \n",
      "\u001b[0;32m<ipython-input-13-68fddbcf155d>\u001b[0m in \u001b[0;36msetup\u001b[0;34m(self)\u001b[0m\n\u001b[1;32m      6\u001b[0m \u001b[0;32mclass\u001b[0m \u001b[0mLQ\u001b[0m\u001b[0;34m(\u001b[0m\u001b[0mobject\u001b[0m\u001b[0;34m)\u001b[0m\u001b[0;34m:\u001b[0m\u001b[0;34m\u001b[0m\u001b[0m\n\u001b[1;32m      7\u001b[0m     \u001b[0;32mdef\u001b[0m \u001b[0msetup\u001b[0m\u001b[0;34m(\u001b[0m\u001b[0mself\u001b[0m\u001b[0;34m)\u001b[0m\u001b[0;34m:\u001b[0m\u001b[0;34m\u001b[0m\u001b[0m\n\u001b[0;32m----> 8\u001b[0;31m         self.N = self.settings.New(name='N', initial=0,\n\u001b[0m\u001b[1;32m      9\u001b[0m                                     dtype=bool, ro=True)\n\u001b[1;32m     10\u001b[0m         self.NW = self.settings.New(name='NW', initial=0,\n",
      "\u001b[0;31mAttributeError\u001b[0m: 'LQ' object has no attribute 'settings'"
     ]
    }
   ],
   "source": [
    "from ScopeFoundry.measurement import Measurement\n",
    "from ScopeFoundry.hardware import HardwareComponent\n",
    "from ScopeFoundry.logged_quantity import LQCollection\n",
    "\n",
    "\n",
    "class LQ(object):\n",
    "    def setup(self):\n",
    "        self.N = self.settings.New(name='N', initial=0,\n",
    "                                    dtype=bool, ro=True)\n",
    "        self.NW = self.settings.New(name='NW', initial=0,\n",
    "                                    dtype=bool, ro=True)\n",
    "        self.W = self.settings.New(name='W', initial=0,\n",
    "                                    dtype=bool, ro=True)\n",
    "        self.SW = self.settings.New(name='SW', initial=0,\n",
    "                                    dtype=bool, ro=True)\n",
    "        self.S = self.settings.New(name='S', initial=0,\n",
    "                                    dtype=bool, ro=True)\n",
    "        self.SE = self.settings.New(name='SE', initial=0,\n",
    "                                    dtype=bool, ro=True)\n",
    "        self.E = self.settings.New(name='E', initial=0,\n",
    "                                    dtype=bool, ro=True)\n",
    "        self.NE = self.settings.New(name='NE', initial=0, \n",
    "                                    dtype=bool, ro=True)\n",
    "LQ().setup()\n",
    "    \n",
    "dir_dict = {(0,1): 'N', \n",
    "              (-1,1): 'NW',\n",
    "              (-1,0): 'W',\n",
    "              (-1,-1): 'SW',\n",
    "              (0,-1): 'S',\n",
    "              (1,-1): 'SE',\n",
    "              (1,0): 'E',\n",
    "              (1,1): 'NE'}"
   ]
  },
  {
   "cell_type": "code",
   "execution_count": null,
   "metadata": {
    "collapsed": true
   },
   "outputs": [],
   "source": []
  },
  {
   "cell_type": "code",
   "execution_count": null,
   "metadata": {
    "collapsed": true
   },
   "outputs": [],
   "source": []
  }
 ],
 "metadata": {
  "kernelspec": {
   "display_name": "Python 2",
   "language": "python",
   "name": "python2"
  },
  "language_info": {
   "codemirror_mode": {
    "name": "ipython",
    "version": 2
   },
   "file_extension": ".py",
   "mimetype": "text/x-python",
   "name": "python",
   "nbconvert_exporter": "python",
   "pygments_lexer": "ipython2",
   "version": "2.7.12"
  }
 },
 "nbformat": 4,
 "nbformat_minor": 0
}

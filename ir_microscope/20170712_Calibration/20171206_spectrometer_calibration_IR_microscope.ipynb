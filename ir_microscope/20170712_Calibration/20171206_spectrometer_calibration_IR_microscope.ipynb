{
 "cells": [
  {
   "cell_type": "markdown",
   "metadata": {
    "collapsed": true
   },
   "source": [
    "# Calibration Procedure\n",
    "\n",
    "* Compute center offset:\n",
    " - Set $\\lambda_{\\rm center}$ to set of known spectral lines\n",
    " - Measure pixel position of each: \n",
    " - pick one and determine offset_adjustment each to determine central pixel $n_o$\n",
    " \n",
    "|   $\\lambda_{\\rm center}$ | Pixel |           \n",
    "| ----------------------:  |:------:|\n",
    "| 0   nm                   | 5.2 | \n",
    "| 445 nm                   | 6.22      |  \n",
    "| 901 nm                   | 3.1      | \n",
    "\n",
    "\n",
    " \n",
    "* Compute spectrometer dispersion calibration. i.e: angles/length ($\\ f_L, \\delta, \\gamma$)\n",
    " * Move known spectral line $\\lambda_o$ to left and right sides of detector\n",
    " * record $\\lambda_{\\rm center}$ and pixel position for each \n",
    " * Compute best fit of $\\ f_{\\rm calib}$\n",
    "\n",
    "\n",
    "| $\\lambda_o$   | Side | $\\lambda_{\\rm center}$| Pixel  |\n",
    "| ------------- | ---- |:----------------------|-------:|\n",
    "| 809.4 nm      | R    |729.4910 nm            |508     |\n",
    "| 809.4 nm      | L    |899.5830 nm            |  4     |\n",
    "| ...           | ...  | ...                   |...     |\n",
    "\n"
   ]
  },
  {
   "cell_type": "markdown",
   "metadata": {},
   "source": [
    "# Optimization Function\n",
    "\n",
    "Optimize for 3 parameters:\n",
    " * $f_L$: Focal length of spectrometer\n",
    " * $\\delta$: Detector angle (The angle of the image plane relative to the plane perpendicular to the spectrograph focal axis at the center of the image plane)\n",
    " * $\\gamma$: inclusion angle\n",
    "\n",
    "from experiment:\n",
    " * $n =  n_{px} - n_o$: Pixel from central pixel\n",
    " * $\\lambda_{\\rm center}$: Wavelength of center pixel \n",
    " * $\\lambda_p$: Wavelength of pixel $n$\n",
    " \n",
    "Fixed Constants:\n",
    " * $m$: Diffraction order (typically one)\n",
    " * $x_{\\rm pixel}$: pixel size\n",
    " * $d_{grating}$: Grating pitch (1/(groves / mm))\n",
    "    \n",
    "residual: (wl,  wl_p, n, f, delta,gamma)\n",
    "\n",
    "We measure pixel position ($n$) of a known wavelength ($\\lambda_p$) for multple peaks and spectrometer positions and find the best fit parameters $\\ f_L, \\delta, \\gamma$:\n",
    "\n",
    "$$ \\lambda_p = f_{\\rm calib} ( n,  \\lambda_{\\rm center}, \n",
    "    \\underbrace{m, x_{\\rm pixel}, d_{\\rm grating}}_{\\rm spec\\ params}, \n",
    "    \\overbrace{f_L,\\ \\ \\delta,\\ \\ \\gamma}^{\\rm Calibration\\ params} ) $$\n",
    "\n",
    "$$ \\lambda_p = \\frac{d}{m} \\cdot \\left[ \\sin( \\psi - \\frac{\\gamma}{2}) + \\sin(\\psi+\\frac{\\gamma}{2} + \\eta) \\right]$$\n",
    "\n",
    "Where\n",
    "\n",
    "$$ \\psi = \\arcsin \\left[ \\frac{ m\\ \\lambda_{\\rm center} } { 2\\ d_{\\rm grating} \\cos(\\frac{\\gamma}{2})} \\right] $$\n",
    "\n",
    "$$ \\eta = \\arctan \\left[ \\frac{ n\\ x_{pixel} \\cos{\\delta}} {f_L + n\\ x_{pixel} \\sin(\\delta)} \\right]$$\n",
    "\n",
    "$$n =  n_{px} - n_o$$\n",
    "\n",
    "\n",
    "Note: $nx_{\\rm pixel}$ is the distance from the center\n"
   ]
  },
  {
   "cell_type": "markdown",
   "metadata": {},
   "source": [
    "Hg has strong persistent line at \n",
    "194.223,\n",
    "435.8328,\n",
    "912.288,\n",
    "1529.582nm. The last two are perticularly useful for NIR\n",
    "https://physics.nist.gov/PhysRefData/Handbook/Tables/mercurytable2.htm"
   ]
  },
  {
   "cell_type": "code",
   "execution_count": 1,
   "metadata": {
    "collapsed": true
   },
   "outputs": [],
   "source": [
    "from __future__ import division\n",
    "import numpy as np\n",
    "import matplotlib.pyplot as plt\n",
    "%matplotlib inline\n",
    "from pprint import pprint\n",
    "import glob as glob\n",
    "\n",
    "import h5py\n",
    "def loadH5_dset(file_name, dset_name):\n",
    "    h5_file = h5py.File(file_name)\n",
    "    dset_ =  h5_file.visititems(lambda name,node:dset_visitfunction(name, node,dset_name=dset_name))\n",
    "    h5_file.close()\n",
    "    return dset_\n",
    "def dset_visitfunction(name,node,dset_name):\n",
    "    if isinstance(node, h5py.Dataset):\n",
    "        if dset_name in name:\n",
    "            return np.array(node)\n",
    "def loadH5_attr(file_name, attr_name):\n",
    "    h5_file = h5py.File(file_name)\n",
    "    dset_ =  h5_file.visititems(lambda name,node:attr_visitfunction(name, node,attr_name=attr_name))\n",
    "    h5_file.close()\n",
    "    return dset_\n",
    "def attr_visitfunction(name,node,attr_name):\n",
    "    for key, val in node.attrs.items():\n",
    "        if key == attr_name:\n",
    "            return val   \n",
    "        \n",
    "        \n",
    "def wl_p_calib(px, n0, offset_adjust, wl_center, m_order, d_grating, x_pixel, f, delta, gamma):\n",
    "    #consts\n",
    "    #d_grating = 1./150. #mm\n",
    "    #x_pixel   = 16e-3 # mm\n",
    "    #m_order   = 1 # diffraction order, unitless\n",
    "    n = px - (n0+offset_adjust*wl_center)\n",
    "\n",
    "    psi = np.arcsin( m_order* wl_center / (2*d_grating*np.cos(gamma/2)))\n",
    "    eta = np.arctan(n*x_pixel*np.cos(delta) / (f+n*x_pixel*np.sin(delta)))\n",
    "\n",
    "    return ((d_grating/m_order)\n",
    "                    *(np.sin(psi-0.5*gamma)\n",
    "                      + np.sin(psi+0.5*gamma+eta)))"
   ]
  },
  {
   "cell_type": "markdown",
   "metadata": {},
   "source": [
    "# Camera"
   ]
  },
  {
   "cell_type": "code",
   "execution_count": 2,
   "metadata": {
    "collapsed": true
   },
   "outputs": [],
   "source": [
    "x_pixel = 25e3 # in nm"
   ]
  },
  {
   "cell_type": "markdown",
   "metadata": {},
   "source": [
    "## Grating 1\n",
    "### from center wl, go +/-60 nm for left/right measurement."
   ]
  },
  {
   "cell_type": "code",
   "execution_count": 51,
   "metadata": {},
   "outputs": [],
   "source": [
    "d_grating = (1.0/600)*1e6\n",
    "m_order   = 1"
   ]
  },
  {
   "cell_type": "code",
   "execution_count": 5,
   "metadata": {},
   "outputs": [
    {
     "name": "stdout",
     "output_type": "stream",
     "text": [
      "n0= 517\n"
     ]
    }
   ],
   "source": [
    "#offset data\n",
    "wl_center = np.array([  0,763.5030,912.2880])\n",
    "px =        np.array([493,     490,     491])\n",
    "n0 = 517\n",
    "print('n0=',n0)\n",
    "#lines\n",
    "n_px      = np.array([    3,     1013])\n",
    "wl_actual = np.array([912.288,912.288])\n",
    "wl_center = np.array([980   ,     850])"
   ]
  },
  {
   "cell_type": "markdown",
   "metadata": {},
   "source": [
    "## Grating 2"
   ]
  },
  {
   "cell_type": "code",
   "execution_count": 6,
   "metadata": {
    "scrolled": true
   },
   "outputs": [
    {
     "name": "stdout",
     "output_type": "stream",
     "text": [
      "n0= 488.0\n"
     ]
    }
   ],
   "source": [
    "d_grating = (1.0/600)*1e6\n",
    "m_order = 1\n",
    "#offset data\n",
    "wl_center = np.array([  0,763.5030,912.2880])\n",
    "px =        np.array([489,     487,     488])\n",
    "n0 = px.mean()\n",
    "print('n0=',n0)\n",
    "#lines\n",
    "n_px      = np.array([    195,    591, 619     ])\n",
    "wl_actual = np.array([912.288,912.288, 912.288 ])\n",
    "wl_center = np.array([1000   ,    900, 950     ])\n"
   ]
  },
  {
   "cell_type": "markdown",
   "metadata": {},
   "source": [
    "## Grating 3 (calibrated around 912.3: 790 -1080)"
   ]
  },
  {
   "cell_type": "code",
   "execution_count": 3,
   "metadata": {
    "collapsed": true
   },
   "outputs": [],
   "source": [
    "d_grating = (1.0/300)*1e6\n",
    "m_order = 1"
   ]
  },
  {
   "cell_type": "markdown",
   "metadata": {},
   "source": [
    "### offset"
   ]
  },
  {
   "cell_type": "code",
   "execution_count": 25,
   "metadata": {},
   "outputs": [
    {
     "name": "stdout",
     "output_type": "stream",
     "text": [
      "912.297 493\n",
      "1529.578 491\n"
     ]
    }
   ],
   "source": [
    "n0 = 493\n",
    "def spectral_median(spec,wls, count_min=200):\n",
    "    int_spec = np.cumsum(spec)\n",
    "    total_sum = int_spec[-1]\n",
    "    if total_sum > count_min:\n",
    "        pos = int_spec.searchsorted( 0.5*total_sum)\n",
    "        wl = wls[pos]\n",
    "    else:\n",
    "        wl = np.NaN\n",
    "    return wl\n",
    "\n",
    "fnames = glob.glob('data/grating_3/n0_adjustment/*winspec*')\n",
    "wl_center = np.zeros(len(fnames))\n",
    "n_px = wl_center.copy()\n",
    "wl_actual = wl_center.copy()\n",
    "for ii,fname in enumerate(fnames):\n",
    "    h5_file = h5py.File(fname)\n",
    "    s = np.s_[470:530]\n",
    "    spec = loadH5_dset(fname,'spectrum')[0,0,s]\n",
    "    px = spectral_median(spec, np.arange(1024)[s])\n",
    "    print(loadH5_attr(fname, 'center_wl'), px)"
   ]
  },
  {
   "cell_type": "code",
   "execution_count": 26,
   "metadata": {},
   "outputs": [
    {
     "name": "stdout",
     "output_type": "stream",
     "text": [
      "-0.00324001548727\n"
     ]
    }
   ],
   "source": [
    "offset_center_px = [493.,  491.]\n",
    "offset_center_wl = [912.297, 1529.578]\n",
    "offset_adjust = (np.diff(offset_center_px)/np.diff(offset_center_wl)).mean()\n",
    "print(offset_adjust)"
   ]
  },
  {
   "cell_type": "markdown",
   "metadata": {},
   "source": [
    "### dispersion calibration"
   ]
  },
  {
   "cell_type": "code",
   "execution_count": 27,
   "metadata": {},
   "outputs": [
    {
     "name": "stdout",
     "output_type": "stream",
     "text": [
      "[ 540.  890.  149.]\n",
      "[ 899.992  809.993  999.994]\n",
      "[ 912.3  912.3  912.3]\n"
     ]
    }
   ],
   "source": [
    "# here n_px is computed automatically using argmax() which is not always a valid approach \n",
    "fnames = glob.glob('data/grating_3/*winspec*')\n",
    "wl_center = np.zeros(len(fnames))\n",
    "n_px = wl_center.copy()\n",
    "wl_actual = wl_center.copy()\n",
    "for ii,fname in enumerate(fnames):\n",
    "    h5_file = h5py.File(fname)\n",
    "    spec = loadH5_dset(fname,'spectrum')\n",
    "    n_px[ii] = spec.argmax()\n",
    "    wl_center[ii] = loadH5_attr(fname, 'center_wl')\n",
    "    wl_actual[ii] = 912.3\n",
    "    \n",
    "print(n_px)\n",
    "print(wl_center)\n",
    "print(wl_actual)"
   ]
  },
  {
   "cell_type": "code",
   "execution_count": 31,
   "metadata": {},
   "outputs": [],
   "source": [
    "from scipy.optimize import least_squares\n",
    "\n",
    "def fit_residual(\n",
    "                # optimization parameters\n",
    "                params, \n",
    "                # other params and data\n",
    "                px, n0, offset_adjust, wl_center, m_order, d_grating, x_pixel,\n",
    "                wl_actual\n",
    "                ):\n",
    "    (f, delta, gamma,) = params\n",
    "    wl_model = wl_p_calib(px, n0, offset_adjust, wl_center, m_order, d_grating, x_pixel, f, delta, gamma)\n",
    "    return wl_model - wl_actual\n",
    "    \n",
    "initial_guess = (300e6, 0.0, 0.0)\n",
    "\n",
    "s=np.s_[:]\n",
    "#s = [0,-2]\n",
    "kwargs = dict(\n",
    "    px=n_px[s], \n",
    "    n0=n0,\n",
    "    offset_adjust = offset_adjust,\n",
    "    wl_center=wl_center[s],\n",
    "    m_order=1,\n",
    "    d_grating=d_grating,\n",
    "    x_pixel=x_pixel,\n",
    "    wl_actual = wl_actual[s]\n",
    ")\n",
    "\n",
    "result = least_squares(fit_residual, initial_guess, kwargs=kwargs, xtol=1e-15, gtol=1e-15, ftol=1e-15)\n"
   ]
  },
  {
   "cell_type": "code",
   "execution_count": 32,
   "metadata": {
    "scrolled": false
   },
   "outputs": [
    {
     "name": "stdout",
     "output_type": "stream",
     "text": [
      "f, delta, gamma, n0, offset_adjust, d_grating, x_pixel\n",
      "[321689128.87573242, 0.088326333056814615, -0.072049816199315248, 493, -0.0032400154872740295, 3333.3333333333335, 25000.0]\n"
     ]
    }
   ],
   "source": [
    "calibration = [result.x[0],\n",
    "               result.x[1],\n",
    "               result.x[2],\n",
    "               n0,\n",
    "               offset_adjust,\n",
    "               d_grating, \n",
    "               x_pixel]\n",
    "print('f, delta, gamma, n0, offset_adjust, d_grating, x_pixel')\n",
    "print(calibration)"
   ]
  },
  {
   "cell_type": "code",
   "execution_count": 33,
   "metadata": {},
   "outputs": [
    {
     "data": {
      "text/plain": [
       "[299999999.04755104,\n",
       " -0.36295464599714206,\n",
       " 0.04205898574493192,\n",
       " 498,\n",
       " -0.0032400154872740295,\n",
       " 3333.3333333333335,\n",
       " 25000.0]"
      ]
     },
     "execution_count": 33,
     "metadata": {},
     "output_type": "execute_result"
    }
   ],
   "source": [
    "#Grating 3 without adjustment\n",
    "#[299999998.98569852, -0.18306223592186061, 0.42417029798171096, 493.0, 3333.3333333333335, 25000.0]\n",
    "[299999999.04755104, -0.36295464599714206, 0.042058985744931922, 498, -0.0032400154872740295, 3333.3333333333335, 25000.0]"
   ]
  }
 ],
 "metadata": {
  "kernelspec": {
   "display_name": "Python 3",
   "language": "python",
   "name": "python3"
  },
  "language_info": {
   "codemirror_mode": {
    "name": "ipython",
    "version": 3
   },
   "file_extension": ".py",
   "mimetype": "text/x-python",
   "name": "python",
   "nbconvert_exporter": "python",
   "pygments_lexer": "ipython3",
   "version": "3.6.1"
  }
 },
 "nbformat": 4,
 "nbformat_minor": 1
}

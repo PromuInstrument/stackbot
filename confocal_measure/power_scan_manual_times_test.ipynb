{
 "cells": [
  {
   "cell_type": "code",
   "execution_count": 4,
   "metadata": {},
   "outputs": [
    {
     "name": "stdout",
     "output_type": "stream",
     "text": [
      "Using matplotlib backend: Qt5Agg\n"
     ]
    }
   ],
   "source": [
    "import numpy as np\n",
    "import matplotlib.pylab as plt\n",
    "%matplotlib "
   ]
  },
  {
   "cell_type": "markdown",
   "metadata": {},
   "source": [
    "# User input"
   ]
  },
  {
   "cell_type": "code",
   "execution_count": null,
   "metadata": {
    "collapsed": true
   },
   "outputs": [],
   "source": [
    "#list of (p,t) where p ist the lowest position with acquisition time t\n",
    "pos_vs_acqtime = [(0,5),(80,4),(120,3),(200,2)] "
   ]
  },
  {
   "cell_type": "markdown",
   "metadata": {},
   "source": [
    "# construct acquisition time array "
   ]
  },
  {
   "cell_type": "code",
   "execution_count": null,
   "metadata": {},
   "outputs": [],
   "source": [
    "power_wheel_position = np.linspace(0,280,100) #up sweep\n",
    "power_wheel_position = np.concatenate([power_wheel_position, power_wheel_position[::-1]]) #up down sweep\n",
    "power_wheel_position = np.concatenate([power_wheel_position[50:150],power_wheel_position[150:-1], power_wheel_position[0:50]])#\n",
    "plt.plot(power_wheel_position,'.', label='power_wheel_postion')\n",
    "plt.ylabel('power_wheel_postion')"
   ]
  },
  {
   "cell_type": "code",
   "execution_count": null,
   "metadata": {},
   "outputs": [],
   "source": [
    "x = power_wheel_position\n",
    "# lowest position\n",
    "acq_time_array = np.piecewise(x, [x < pos[1], x >= pos[1]], [time[0], 0]) \n",
    "plt.figure()\n",
    "plt.plot(acq_time_array*50, '-.', label='acq_time_array of lowest position')\n",
    "plt.legend()\n",
    " #highest position\n",
    "acq_time_array += np.piecewise(x, [x >= pos[-1], x < pos[-1]], [time[-1], 0])\n",
    "plt.figure()\n",
    "plt.plot(acq_time_array*50, '-.', label='acq_time_array with highest position')\n",
    "plt.legend()\n",
    "# all other\n",
    "for i in range(1,len(pos)-1):\n",
    "    t = np.piecewise(x, [x < pos[i], x >= pos[i], x >= pos[i+1]], [0, time[i], 0])\n",
    "    acq_time_array += t    \n",
    "    \n",
    "plt.figure()\n",
    "plt.plot(power_wheel_position,'.', label='power_wheel_postion')\n",
    "plt.plot(acq_time_array*50, '-.', label='~acq_time_array')\n",
    "plt.legend()"
   ]
  },
  {
   "cell_type": "code",
   "execution_count": null,
   "metadata": {},
   "outputs": [],
   "source": [
    "plt.figure()\n",
    "plt.plot(power_wheel_position,acq_time_array)\n",
    "plt.ylabel('acq_time_array')\n",
    "plt.xlabel('power_wheel_postion')\n",
    "plt.figure()"
   ]
  },
  {
   "cell_type": "code",
   "execution_count": null,
   "metadata": {
    "collapsed": true
   },
   "outputs": [],
   "source": [
    "def manual_input_2_acq_time_array(power_wheel_position, manual_pos_vs_times):\n",
    "    pos,time = np.array(manual_pos_vs_times).T\n",
    "    x = power_wheel_position\n",
    "    # lowest position\n",
    "    acq_time_array =  np.piecewise(x, [x < pos[1],   x >= pos[1]], [ time[0], 0]) \n",
    "    # highest position\n",
    "    acq_time_array += np.piecewise(x, [x >= pos[-1], x < pos[-1]], [time[-1], 0])\n",
    "    # all other\n",
    "    for i in range(1,len(pos)-1):\n",
    "        t = np.piecewise(x, [x < pos[i], x >= pos[i], x >= pos[i+1]], [0, time[i], 0])\n",
    "        acq_time_array += t    \n",
    "    return acq_time_array"
   ]
  },
  {
   "cell_type": "code",
   "execution_count": 152,
   "metadata": {
    "collapsed": true
   },
   "outputs": [],
   "source": [
    "acq_time_array = manual_2_acquisition_time_array(power_wheel_position, pos_vs_time)"
   ]
  },
  {
   "cell_type": "code",
   "execution_count": 153,
   "metadata": {},
   "outputs": [
    {
     "data": {
      "text/plain": [
       "[<matplotlib.lines.Line2D at 0x28207010668>]"
      ]
     },
     "execution_count": 153,
     "metadata": {},
     "output_type": "execute_result"
    },
    {
     "data": {
      "image/png": "[encoded data removed]",
      "text/plain": [
       "<matplotlib.figure.Figure at 0x28205d202e8>"
      ]
     },
     "metadata": {},
     "output_type": "display_data"
    }
   ],
   "source": [
    "plt.plot(acq_time_array, '-.')"
   ]
  },
  {
   "cell_type": "code",
   "execution_count": null,
   "metadata": {
    "collapsed": true
   },
   "outputs": [],
   "source": []
  }
 ],
 "metadata": {
  "kernelspec": {
   "display_name": "Python 3",
   "language": "python",
   "name": "python3"
  },
  "latex_envs": {
   "LaTeX_envs_menu_present": true,
   "autoclose": false,
   "autocomplete": true,
   "bibliofile": "biblio.bib",
   "cite_by": "apalike",
   "current_citInitial": 1,
   "eqLabelWithNumbers": true,
   "eqNumInitial": 1,
   "hotkeys": {
    "equation": "Ctrl-E",
    "itemize": "Ctrl-I"
   },
   "labels_anchors": false,
   "latex_user_defs": false,
   "report_style_numbering": false,
   "user_envs_cfg": false
  },
  "toc": {
   "base_numbering": 1,
   "nav_menu": {},
   "number_sections": true,
   "sideBar": true,
   "skip_h1_title": false,
   "title_cell": "Table of Contents",
   "title_sidebar": "Contents",
   "toc_cell": false,
   "toc_position": {},
   "toc_section_display": true,
   "toc_window_display": false
  },
  "varInspector": {
   "cols": {
    "lenName": 16,
    "lenType": 16,
    "lenVar": 40
   },
   "kernels_config": {
    "python": {
     "delete_cmd_postfix": "",
     "delete_cmd_prefix": "del ",
     "library": "var_list.py",
     "varRefreshCmd": "print(var_dic_list())"
    },
    "r": {
     "delete_cmd_postfix": ") ",
     "delete_cmd_prefix": "rm(",
     "library": "var_list.r",
     "varRefreshCmd": "cat(var_dic_list()) "
    }
   },
   "types_to_exclude": [
    "module",
    "function",
    "builtin_function_or_method",
    "instance",
    "_Feature"
   ],
   "window_display": false
  }
 },
 "nbformat": 4,
 "nbformat_minor": 2
}
